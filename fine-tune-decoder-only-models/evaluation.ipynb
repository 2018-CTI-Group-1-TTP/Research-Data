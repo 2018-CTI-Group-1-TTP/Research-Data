{
 "cells": [
  {
   "cell_type": "code",
   "execution_count": 2,
   "metadata": {},
   "outputs": [
    {
     "name": "stdout",
     "output_type": "stream",
     "text": [
      "Total datapoints to be evaluated: 445\n",
      "Mistral results for 3 shot\n",
      "Micro Precision: 0.2649\n",
      "Micro Recall: 0.4940\n",
      "Micro F1 Score: 0.3449\n",
      "Accuracy: 0.4940\n"
     ]
    }
   ],
   "source": [
    "import pandas as pd\n",
    "\n",
    "# Load the DataFrame\n",
    "df = pd.read_csv('mistral-3-shot.csv')\n",
    "df = df.dropna()\n",
    "\n",
    "print(\"Total datapoints to be evaluated:\", df.shape[0])\n",
    "\n",
    "# Initialize aggregate counts for micro-average calculation and accuracy\n",
    "total_TP = 0\n",
    "total_FP = 0\n",
    "total_FN = 0\n",
    "total_correct_predictions = 0\n",
    "\n",
    "for _, row in df.iterrows():\n",
    "    # Convert actual and predicted outputs from strings to lists, cleaning in the process\n",
    "    Actual_outputs = [st.strip() for st in row['Actual_output'].replace('</s>', '').split(\",\")]\n",
    "    Predicted_outputs = [st.strip() for st in row['Predicted_output'].replace('</s>', '').split(\",\")]\n",
    "\n",
    "    actual_labels = set(Actual_outputs)\n",
    "    predicted_labels = set(Predicted_outputs)\n",
    "    \n",
    "    # Update aggregate counts for micro-average calculation\n",
    "    correct_predictions = len(actual_labels.intersection(predicted_labels))\n",
    "    total_TP += correct_predictions\n",
    "    total_FP += len(predicted_labels - actual_labels)\n",
    "    total_FN += len(actual_labels - predicted_labels)\n",
    "    total_correct_predictions += correct_predictions\n",
    "\n",
    "total_labels = total_TP + total_FN  # Total number of actual labels\n",
    "\n",
    "# Calculate micro-averaged precision, recall, and F1 score\n",
    "micro_precision = total_TP / (total_TP + total_FP) if total_TP + total_FP > 0 else 0\n",
    "micro_recall = total_TP / (total_TP + total_FN) if total_TP + total_FN > 0 else 0\n",
    "micro_f1_score = 2 * (micro_precision * micro_recall) / (micro_precision + micro_recall) if micro_precision + micro_recall > 0 else 0\n",
    "\n",
    "# Calculate accuracy\n",
    "accuracy = total_correct_predictions / total_labels if total_labels > 0 else 0\n",
    "\n",
    "print(\"Mistral results for 3 shot\")\n",
    "print(f'Micro Precision: {micro_precision:.4f}')\n",
    "print(f'Micro Recall: {micro_recall:.4f}')\n",
    "print(f'Micro F1 Score: {micro_f1_score:.4f}')\n",
    "print(f'Accuracy: {accuracy:.4f}')\n"
   ]
  }
 ],
 "metadata": {
  "kernelspec": {
   "display_name": "Python 3",
   "language": "python",
   "name": "python3"
  },
  "language_info": {
   "codemirror_mode": {
    "name": "ipython",
    "version": 3
   },
   "file_extension": ".py",
   "mimetype": "text/x-python",
   "name": "python",
   "nbconvert_exporter": "python",
   "pygments_lexer": "ipython3",
   "version": "3.11.4"
  }
 },
 "nbformat": 4,
 "nbformat_minor": 2
}
